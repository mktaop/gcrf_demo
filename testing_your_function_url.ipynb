{
 "cells": [
  {
   "cell_type": "code",
   "execution_count": 1,
   "id": "4402307f-92f6-499f-8ff6-abadc1d22a32",
   "metadata": {},
   "outputs": [],
   "source": [
    "import requests, json"
   ]
  },
  {
   "cell_type": "markdown",
   "id": "323eac7e-992b-4e89-8682-1f073d4ec3dd",
   "metadata": {},
   "source": [
    "Following function will post a request to our Google Cloud Run Function and retrieve a response"
   ]
  },
  {
   "cell_type": "code",
   "execution_count": 4,
   "id": "e7f770ce-c1c9-4cef-858c-90a3c51229e5",
   "metadata": {},
   "outputs": [],
   "source": [
    "def call_cloud_function(function_url, text):\n",
    "\n",
    "    try:\n",
    "        # Construct the JSON payload\n",
    "        payload = {'text': text}\n",
    "\n",
    "        # Set the headers for the request\n",
    "        headers = {'Content-Type': 'application/json'}\n",
    "\n",
    "        # Make the POST request to the Cloud Function\n",
    "        response = requests.post(function_url, data=json.dumps(payload), headers=headers)\n",
    "\n",
    "        # Raise an exception for bad status codes\n",
    "        response.raise_for_status()  # Raises HTTPError for bad responses (4xx or 5xx)\n",
    "\n",
    "        # Parse the JSON response\n",
    "        return response.json()\n",
    "\n",
    "    except requests.exceptions.RequestException as e:\n",
    "        print(f\"Error calling Cloud Function: {e}\")\n",
    "        return None  # Indicate an error occurred"
   ]
  },
  {
   "cell_type": "markdown",
   "id": "a834f21f-95b8-41d0-8c16-a6edf9061910",
   "metadata": {},
   "source": [
    "Following snippet will take user text and pass it to the above function to determine sentiment"
   ]
  },
  {
   "cell_type": "code",
   "execution_count": 7,
   "id": "b7306b4a-67fb-439f-b255-37fe4eef42f8",
   "metadata": {},
   "outputs": [
    {
     "name": "stdout",
     "output_type": "stream",
     "text": [
      "Cloud Function Response:\n",
      "\"Negative\"\n"
     ]
    }
   ],
   "source": [
    "if __name__ == '__main__':\n",
    "    function_uri = \"\"  # Replace with your function's URL\n",
    "    text = (\n",
    "        \"Not sure that i really like the movie.\"\n",
    "        )\n",
    "\n",
    "    results = call_cloud_function(function_uri, text)\n",
    "\n",
    "    if results:\n",
    "        print(\"Cloud Function Response:\")\n",
    "        print(json.dumps(results, indent=2))  # Pretty-print the JSON\n",
    "    else:\n",
    "        print(\"Failed to call Cloud Function.\")"
   ]
  },
  {
   "cell_type": "code",
   "execution_count": null,
   "id": "10f5d2b5-5b1f-484e-a996-fc18ff58d004",
   "metadata": {},
   "outputs": [],
   "source": []
  }
 ],
 "metadata": {
  "kernelspec": {
   "display_name": "Python [conda env:base] *",
   "language": "python",
   "name": "conda-base-py"
  },
  "language_info": {
   "codemirror_mode": {
    "name": "ipython",
    "version": 3
   },
   "file_extension": ".py",
   "mimetype": "text/x-python",
   "name": "python",
   "nbconvert_exporter": "python",
   "pygments_lexer": "ipython3",
   "version": "3.12.2"
  }
 },
 "nbformat": 4,
 "nbformat_minor": 5
}
