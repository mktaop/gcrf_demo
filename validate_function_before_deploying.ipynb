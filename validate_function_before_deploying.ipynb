{
 "cells": [
  {
   "cell_type": "code",
   "execution_count": 1,
   "id": "15bbcd16-3389-41c6-beb6-4004efb8420e",
   "metadata": {},
   "outputs": [],
   "source": [
    "from google.cloud import language_v1\n",
    "import json, os"
   ]
  },
  {
   "cell_type": "markdown",
   "id": "339734f5-7cf2-4ecf-8014-909569c3d178",
   "metadata": {},
   "source": [
    "Below is the function that we want to deploy, but we need to try it locally to make sure it works"
   ]
  },
  {
   "cell_type": "code",
   "execution_count": 4,
   "id": "8d27bcb1-d609-4f29-b3c8-3eff8ddb5be6",
   "metadata": {},
   "outputs": [],
   "source": [
    "def get_sentiment(request):\n",
    "\n",
    "    try:\n",
    "        \n",
    "        project_id = os.environ.get(\"GOOG_PROJECT\")\n",
    "        \n",
    "        # Get the text from the request body\n",
    "        request_json = request.get_json(silent=True)\n",
    "        if request_json and 'text' in request_json:\n",
    "            text = request_json['text']\n",
    "        else:\n",
    "            return (\"Please provide 'text' in the request body.\", 400)\n",
    "\n",
    "\n",
    "        # Instantiates a client.\n",
    "        client = language_v1.LanguageServiceClient()\n",
    "\n",
    "        # The text to analyze.\n",
    "        #text = \"not sure that this movie was all that good.\"\n",
    "        document = language_v1.types.Document(\n",
    "            content=text, type_=language_v1.types.Document.Type.PLAIN_TEXT\n",
    "        )\n",
    "\n",
    "        # Detects the sentiment of the text.\n",
    "        sentiment = client.analyze_sentiment(\n",
    "            request={\"document\": document}\n",
    "        ).document_sentiment\n",
    "\n",
    "        #print(f\"Text: {text}\")\n",
    "        #print(f\"Sentiment: {sentiment.score}, {sentiment.magnitude}\")\n",
    "        if sentiment.score < 0:\n",
    "            outcome = \"Negative\"\n",
    "        elif sentiment.score > 0:\n",
    "            outcome = \"Positive\"\n",
    "        else:\n",
    "            outcome = \"Neutral\"\n",
    "\n",
    "\n",
    "        # Serialize the results to JSON\n",
    "        return json.dumps(outcome, indent=2), 200, {'Content-Type': 'application/json'}  \n",
    "\n",
    "    except Exception as e:\n",
    "        # Handle errors \n",
    "        print(f\"Error: {e}\")\n",
    "        return f\"An error occurred: {e}\", 500"
   ]
  },
  {
   "cell_type": "markdown",
   "id": "3aca88d2-236d-4375-adf3-6ba2e6768e1e",
   "metadata": {},
   "source": [
    "Following will test the fuction"
   ]
  },
  {
   "cell_type": "code",
   "execution_count": 7,
   "id": "16102b00-7ef7-45b4-9d8d-349de306b841",
   "metadata": {},
   "outputs": [
    {
     "name": "stdout",
     "output_type": "stream",
     "text": [
      "Response: ('\"Positive\"', 200, {'Content-Type': 'application/json'})\n",
      "[\n",
      "  \"\\\"Positive\\\"\",\n",
      "  200,\n",
      "  {\n",
      "    \"Content-Type\": \"application/json\"\n",
      "  }\n",
      "]\n"
     ]
    }
   ],
   "source": [
    "if __name__ == '__main__':\n",
    "    # Simulate a request object\n",
    "    class MockRequest:\n",
    "        def get_json(self, silent=True):\n",
    "            return {\n",
    "                'text': \"i love ice cream!\"  \n",
    "            }\n",
    "\n",
    "    request = MockRequest()\n",
    "    response = get_sentiment(request)  \n",
    "    print(f\"Response: {response}\")\n",
    "    print(json.dumps(response, indent=2))"
   ]
  },
  {
   "cell_type": "code",
   "execution_count": null,
   "id": "c71a26c6-a4e4-4eaa-bbf5-f9d55904f82a",
   "metadata": {},
   "outputs": [],
   "source": []
  }
 ],
 "metadata": {
  "kernelspec": {
   "display_name": "Python [conda env:base] *",
   "language": "python",
   "name": "conda-base-py"
  },
  "language_info": {
   "codemirror_mode": {
    "name": "ipython",
    "version": 3
   },
   "file_extension": ".py",
   "mimetype": "text/x-python",
   "name": "python",
   "nbconvert_exporter": "python",
   "pygments_lexer": "ipython3",
   "version": "3.12.2"
  }
 },
 "nbformat": 4,
 "nbformat_minor": 5
}
